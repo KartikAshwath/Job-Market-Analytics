{
  "cells": [
    {
      "cell_type": "code",
      "source": [
        "import pandas as pd"
      ],
      "outputs": [],
      "execution_count": 5,
      "metadata": {
        "id": "HCNQygqYQGhm"
      }
    },
    {
      "cell_type": "code",
      "source": [
        "# --- 1. Load and Inspect the Data ---\n",
        "print(\"Step 1: Loading the raw data...\")\n",
        "# Load the CSV file into a DataFrame\n",
        "df = pd.read_csv(\"data_analyst_jobs.csv\")\n",
        "len(df)\n",
        "df.info()\n",
        "df.head()"
      ],
      "metadata": {
        "colab": {
          "base_uri": "https://localhost:8080/",
          "height": 900
        },
        "id": "AicqtHs1QQAQ",
        "outputId": "69395c23-0e23-401e-e17e-4fd525ee5b8b"
      },
      "execution_count": 6,
      "outputs": [
        {
          "output_type": "stream",
          "name": "stdout",
          "text": [
            "Step 1: Loading the raw data...\n",
            "<class 'pandas.core.frame.DataFrame'>\n",
            "RangeIndex: 10500 entries, 0 to 10499\n",
            "Data columns (total 10 columns):\n",
            " #   Column            Non-Null Count  Dtype \n",
            "---  ------            --------------  ----- \n",
            " 0   Job Role          10500 non-null  object\n",
            " 1   Company           10500 non-null  object\n",
            " 2   Experience Level  10500 non-null  object\n",
            " 3   Location          10022 non-null  object\n",
            " 4   Skills            10500 non-null  object\n",
            " 5   Job Type          10500 non-null  object\n",
            " 6   Work Mode         10500 non-null  object\n",
            " 7   Salary Range      9388 non-null   object\n",
            " 8   Job Posting Date  10500 non-null  object\n",
            " 9   Job Description   10500 non-null  object\n",
            "dtypes: object(10)\n",
            "memory usage: 820.4+ KB\n"
          ]
        },
        {
          "output_type": "execute_result",
          "data": {
            "text/plain": [
              "                    Job Role                           Company  \\\n",
              "0        Junior Data Analyst                      Day and Sons   \n",
              "1        Junior Data Analyst         Hickman, Hester and Davis   \n",
              "2        Junior Data Analyst                        Thomas Inc   \n",
              "3  Data Analytics Specialist       Fuentes, Hicks and Martinez   \n",
              "4        Senior Data Analyst    Gibson, Davidson and Turner      \n",
              "\n",
              "  Experience Level   Location  \\\n",
              "0        Mid Level     Remote   \n",
              "1      Entry Level     Remote   \n",
              "2       Internship  Bangalore   \n",
              "3      Entry Level  Bangalore   \n",
              "4       Internship      Delhi   \n",
              "\n",
              "                                              Skills    Job Type Work Mode  \\\n",
              "0                        SQL, power-bi, Google Cloud  Internship    Hybrid   \n",
              "1                  Machine Learning, Tableau, Python    Contract   On-site   \n",
              "2                  Python, Machine Learning, PowerBI   Full-time    Remote   \n",
              "3       Machine Learning, R, Python, Excel, power-bi  Internship   On-site   \n",
              "4  Machine Learning, Python, Tableau, Google Cola...  Internship   On-site   \n",
              "\n",
              "  Salary Range Job Posting Date  \\\n",
              "0    11-32 LPA       2025-06-26   \n",
              "1     8-29 LPA       not_a_date   \n",
              "2    11-25 LPA       2024-11-29   \n",
              "3    11-34 LPA       32-13-2024   \n",
              "4    12-31 LPA       2025-07-07   \n",
              "\n",
              "                                     Job Description  \n",
              "0  Without more yeah professor represent join alw...  \n",
              "1  Seem early describe if book produce statement ...  \n",
              "2  Whose painting fact thus big story of others p...  \n",
              "3  Court week final away throw Mrs put manage tog...  \n",
              "4  Figure matter about majority else across contr...  "
            ],
            "text/html": [
              "\n",
              "  <div id=\"df-ae5960de-e67c-495b-a4ea-42e468ea73be\" class=\"colab-df-container\">\n",
              "    <div>\n",
              "<style scoped>\n",
              "    .dataframe tbody tr th:only-of-type {\n",
              "        vertical-align: middle;\n",
              "    }\n",
              "\n",
              "    .dataframe tbody tr th {\n",
              "        vertical-align: top;\n",
              "    }\n",
              "\n",
              "    .dataframe thead th {\n",
              "        text-align: right;\n",
              "    }\n",
              "</style>\n",
              "<table border=\"1\" class=\"dataframe\">\n",
              "  <thead>\n",
              "    <tr style=\"text-align: right;\">\n",
              "      <th></th>\n",
              "      <th>Job Role</th>\n",
              "      <th>Company</th>\n",
              "      <th>Experience Level</th>\n",
              "      <th>Location</th>\n",
              "      <th>Skills</th>\n",
              "      <th>Job Type</th>\n",
              "      <th>Work Mode</th>\n",
              "      <th>Salary Range</th>\n",
              "      <th>Job Posting Date</th>\n",
              "      <th>Job Description</th>\n",
              "    </tr>\n",
              "  </thead>\n",
              "  <tbody>\n",
              "    <tr>\n",
              "      <th>0</th>\n",
              "      <td>Junior Data Analyst</td>\n",
              "      <td>Day and Sons</td>\n",
              "      <td>Mid Level</td>\n",
              "      <td>Remote</td>\n",
              "      <td>SQL, power-bi, Google Cloud</td>\n",
              "      <td>Internship</td>\n",
              "      <td>Hybrid</td>\n",
              "      <td>11-32 LPA</td>\n",
              "      <td>2025-06-26</td>\n",
              "      <td>Without more yeah professor represent join alw...</td>\n",
              "    </tr>\n",
              "    <tr>\n",
              "      <th>1</th>\n",
              "      <td>Junior Data Analyst</td>\n",
              "      <td>Hickman, Hester and Davis</td>\n",
              "      <td>Entry Level</td>\n",
              "      <td>Remote</td>\n",
              "      <td>Machine Learning, Tableau, Python</td>\n",
              "      <td>Contract</td>\n",
              "      <td>On-site</td>\n",
              "      <td>8-29 LPA</td>\n",
              "      <td>not_a_date</td>\n",
              "      <td>Seem early describe if book produce statement ...</td>\n",
              "    </tr>\n",
              "    <tr>\n",
              "      <th>2</th>\n",
              "      <td>Junior Data Analyst</td>\n",
              "      <td>Thomas Inc</td>\n",
              "      <td>Internship</td>\n",
              "      <td>Bangalore</td>\n",
              "      <td>Python, Machine Learning, PowerBI</td>\n",
              "      <td>Full-time</td>\n",
              "      <td>Remote</td>\n",
              "      <td>11-25 LPA</td>\n",
              "      <td>2024-11-29</td>\n",
              "      <td>Whose painting fact thus big story of others p...</td>\n",
              "    </tr>\n",
              "    <tr>\n",
              "      <th>3</th>\n",
              "      <td>Data Analytics Specialist</td>\n",
              "      <td>Fuentes, Hicks and Martinez</td>\n",
              "      <td>Entry Level</td>\n",
              "      <td>Bangalore</td>\n",
              "      <td>Machine Learning, R, Python, Excel, power-bi</td>\n",
              "      <td>Internship</td>\n",
              "      <td>On-site</td>\n",
              "      <td>11-34 LPA</td>\n",
              "      <td>32-13-2024</td>\n",
              "      <td>Court week final away throw Mrs put manage tog...</td>\n",
              "    </tr>\n",
              "    <tr>\n",
              "      <th>4</th>\n",
              "      <td>Senior Data Analyst</td>\n",
              "      <td>Gibson, Davidson and Turner</td>\n",
              "      <td>Internship</td>\n",
              "      <td>Delhi</td>\n",
              "      <td>Machine Learning, Python, Tableau, Google Cola...</td>\n",
              "      <td>Internship</td>\n",
              "      <td>On-site</td>\n",
              "      <td>12-31 LPA</td>\n",
              "      <td>2025-07-07</td>\n",
              "      <td>Figure matter about majority else across contr...</td>\n",
              "    </tr>\n",
              "  </tbody>\n",
              "</table>\n",
              "</div>\n",
              "    <div class=\"colab-df-buttons\">\n",
              "      \n",
              "  <div class=\"colab-df-container\">\n",
              "    <button class=\"colab-df-convert\" onclick=\"convertToInteractive('df-ae5960de-e67c-495b-a4ea-42e468ea73be')\"\n",
              "            title=\"Convert this dataframe to an interactive table.\"\n",
              "            style=\"display:none;\">\n",
              "      \n",
              "  <svg xmlns=\"http://www.w3.org/2000/svg\" height=\"24px\" viewBox=\"0 -960 960 960\">\n",
              "    <path d=\"M120-120v-720h720v720H120Zm60-500h600v-160H180v160Zm220 220h160v-160H400v160Zm0 220h160v-160H400v160ZM180-400h160v-160H180v160Zm440 0h160v-160H620v160ZM180-180h160v-160H180v160Zm440 0h160v-160H620v160Z\"/>\n",
              "  </svg>\n",
              "    </button>\n",
              "    \n",
              "  <style>\n",
              "    .colab-df-container {\n",
              "      display:flex;\n",
              "      gap: 12px;\n",
              "    }\n",
              "\n",
              "    .colab-df-convert {\n",
              "      background-color: #E8F0FE;\n",
              "      border: none;\n",
              "      border-radius: 50%;\n",
              "      cursor: pointer;\n",
              "      display: none;\n",
              "      fill: #1967D2;\n",
              "      height: 32px;\n",
              "      padding: 0 0 0 0;\n",
              "      width: 32px;\n",
              "    }\n",
              "\n",
              "    .colab-df-convert:hover {\n",
              "      background-color: #E2EBFA;\n",
              "      box-shadow: 0px 1px 2px rgba(60, 64, 67, 0.3), 0px 1px 3px 1px rgba(60, 64, 67, 0.15);\n",
              "      fill: #174EA6;\n",
              "    }\n",
              "\n",
              "    .colab-df-buttons div {\n",
              "      margin-bottom: 4px;\n",
              "    }\n",
              "\n",
              "    [theme=dark] .colab-df-convert {\n",
              "      background-color: #3B4455;\n",
              "      fill: #D2E3FC;\n",
              "    }\n",
              "\n",
              "    [theme=dark] .colab-df-convert:hover {\n",
              "      background-color: #434B5C;\n",
              "      box-shadow: 0px 1px 3px 1px rgba(0, 0, 0, 0.15);\n",
              "      filter: drop-shadow(0px 1px 2px rgba(0, 0, 0, 0.3));\n",
              "      fill: #FFFFFF;\n",
              "    }\n",
              "  </style>\n",
              "\n",
              "    <script>\n",
              "      const buttonEl =\n",
              "        document.querySelector('#df-ae5960de-e67c-495b-a4ea-42e468ea73be button.colab-df-convert');\n",
              "      buttonEl.style.display =\n",
              "        google.colab.kernel.accessAllowed ? 'block' : 'none';\n",
              "\n",
              "      async function convertToInteractive(key) {\n",
              "        const element = document.querySelector('#df-ae5960de-e67c-495b-a4ea-42e468ea73be');\n",
              "        const dataTable =\n",
              "          await google.colab.kernel.invokeFunction('convertToInteractive',\n",
              "                                                    [key], {});\n",
              "        if (!dataTable) return;\n",
              "\n",
              "        const docLinkHtml = 'Like what you see? Visit the ' +\n",
              "          '<a target=\"_blank\" href=https://colab.research.google.com/notebooks/data_table.ipynb>data table notebook</a>'\n",
              "          + ' to learn more about interactive tables.';\n",
              "        element.innerHTML = '';\n",
              "        dataTable['output_type'] = 'display_data';\n",
              "        await google.colab.output.renderOutput(dataTable, element);\n",
              "        const docLink = document.createElement('div');\n",
              "        docLink.innerHTML = docLinkHtml;\n",
              "        element.appendChild(docLink);\n",
              "      }\n",
              "    </script>\n",
              "  </div>\n",
              "  \n",
              "    </div>\n",
              "  </div>\n",
              "  "
            ]
          },
          "metadata": {},
          "execution_count": 6
        }
      ]
    },
    {
      "cell_type": "code",
      "source": [
        "# We'll remove the 'Job Description' column right away to make things simpler.\n",
        "del df['Job Description']\n",
        "print(\"Removed 'Job Description' column.\")\n",
        "\n",
        "print(\"\\nShowing the first 5 rows to check the data:\")\n",
        "#print(df.head())\n",
        "df.head()"
      ],
      "metadata": {
        "colab": {
          "base_uri": "https://localhost:8080/",
          "height": 483
        },
        "id": "cFX2EpqmQhZX",
        "outputId": "4620da2a-7f19-4464-e525-733209c3dbdd"
      },
      "execution_count": 7,
      "outputs": [
        {
          "output_type": "stream",
          "name": "stdout",
          "text": [
            "Removed 'Job Description' column.\n",
            "\n",
            "Showing the first 5 rows to check the data:\n"
          ]
        },
        {
          "output_type": "execute_result",
          "data": {
            "text/plain": [
              "                    Job Role                           Company  \\\n",
              "0        Junior Data Analyst                      Day and Sons   \n",
              "1        Junior Data Analyst         Hickman, Hester and Davis   \n",
              "2        Junior Data Analyst                        Thomas Inc   \n",
              "3  Data Analytics Specialist       Fuentes, Hicks and Martinez   \n",
              "4        Senior Data Analyst    Gibson, Davidson and Turner      \n",
              "\n",
              "  Experience Level   Location  \\\n",
              "0        Mid Level     Remote   \n",
              "1      Entry Level     Remote   \n",
              "2       Internship  Bangalore   \n",
              "3      Entry Level  Bangalore   \n",
              "4       Internship      Delhi   \n",
              "\n",
              "                                              Skills    Job Type Work Mode  \\\n",
              "0                        SQL, power-bi, Google Cloud  Internship    Hybrid   \n",
              "1                  Machine Learning, Tableau, Python    Contract   On-site   \n",
              "2                  Python, Machine Learning, PowerBI   Full-time    Remote   \n",
              "3       Machine Learning, R, Python, Excel, power-bi  Internship   On-site   \n",
              "4  Machine Learning, Python, Tableau, Google Cola...  Internship   On-site   \n",
              "\n",
              "  Salary Range Job Posting Date  \n",
              "0    11-32 LPA       2025-06-26  \n",
              "1     8-29 LPA       not_a_date  \n",
              "2    11-25 LPA       2024-11-29  \n",
              "3    11-34 LPA       32-13-2024  \n",
              "4    12-31 LPA       2025-07-07  "
            ],
            "text/html": [
              "\n",
              "  <div id=\"df-cac9159b-b222-4743-b922-b4b940da3454\" class=\"colab-df-container\">\n",
              "    <div>\n",
              "<style scoped>\n",
              "    .dataframe tbody tr th:only-of-type {\n",
              "        vertical-align: middle;\n",
              "    }\n",
              "\n",
              "    .dataframe tbody tr th {\n",
              "        vertical-align: top;\n",
              "    }\n",
              "\n",
              "    .dataframe thead th {\n",
              "        text-align: right;\n",
              "    }\n",
              "</style>\n",
              "<table border=\"1\" class=\"dataframe\">\n",
              "  <thead>\n",
              "    <tr style=\"text-align: right;\">\n",
              "      <th></th>\n",
              "      <th>Job Role</th>\n",
              "      <th>Company</th>\n",
              "      <th>Experience Level</th>\n",
              "      <th>Location</th>\n",
              "      <th>Skills</th>\n",
              "      <th>Job Type</th>\n",
              "      <th>Work Mode</th>\n",
              "      <th>Salary Range</th>\n",
              "      <th>Job Posting Date</th>\n",
              "    </tr>\n",
              "  </thead>\n",
              "  <tbody>\n",
              "    <tr>\n",
              "      <th>0</th>\n",
              "      <td>Junior Data Analyst</td>\n",
              "      <td>Day and Sons</td>\n",
              "      <td>Mid Level</td>\n",
              "      <td>Remote</td>\n",
              "      <td>SQL, power-bi, Google Cloud</td>\n",
              "      <td>Internship</td>\n",
              "      <td>Hybrid</td>\n",
              "      <td>11-32 LPA</td>\n",
              "      <td>2025-06-26</td>\n",
              "    </tr>\n",
              "    <tr>\n",
              "      <th>1</th>\n",
              "      <td>Junior Data Analyst</td>\n",
              "      <td>Hickman, Hester and Davis</td>\n",
              "      <td>Entry Level</td>\n",
              "      <td>Remote</td>\n",
              "      <td>Machine Learning, Tableau, Python</td>\n",
              "      <td>Contract</td>\n",
              "      <td>On-site</td>\n",
              "      <td>8-29 LPA</td>\n",
              "      <td>not_a_date</td>\n",
              "    </tr>\n",
              "    <tr>\n",
              "      <th>2</th>\n",
              "      <td>Junior Data Analyst</td>\n",
              "      <td>Thomas Inc</td>\n",
              "      <td>Internship</td>\n",
              "      <td>Bangalore</td>\n",
              "      <td>Python, Machine Learning, PowerBI</td>\n",
              "      <td>Full-time</td>\n",
              "      <td>Remote</td>\n",
              "      <td>11-25 LPA</td>\n",
              "      <td>2024-11-29</td>\n",
              "    </tr>\n",
              "    <tr>\n",
              "      <th>3</th>\n",
              "      <td>Data Analytics Specialist</td>\n",
              "      <td>Fuentes, Hicks and Martinez</td>\n",
              "      <td>Entry Level</td>\n",
              "      <td>Bangalore</td>\n",
              "      <td>Machine Learning, R, Python, Excel, power-bi</td>\n",
              "      <td>Internship</td>\n",
              "      <td>On-site</td>\n",
              "      <td>11-34 LPA</td>\n",
              "      <td>32-13-2024</td>\n",
              "    </tr>\n",
              "    <tr>\n",
              "      <th>4</th>\n",
              "      <td>Senior Data Analyst</td>\n",
              "      <td>Gibson, Davidson and Turner</td>\n",
              "      <td>Internship</td>\n",
              "      <td>Delhi</td>\n",
              "      <td>Machine Learning, Python, Tableau, Google Cola...</td>\n",
              "      <td>Internship</td>\n",
              "      <td>On-site</td>\n",
              "      <td>12-31 LPA</td>\n",
              "      <td>2025-07-07</td>\n",
              "    </tr>\n",
              "  </tbody>\n",
              "</table>\n",
              "</div>\n",
              "    <div class=\"colab-df-buttons\">\n",
              "      \n",
              "  <div class=\"colab-df-container\">\n",
              "    <button class=\"colab-df-convert\" onclick=\"convertToInteractive('df-cac9159b-b222-4743-b922-b4b940da3454')\"\n",
              "            title=\"Convert this dataframe to an interactive table.\"\n",
              "            style=\"display:none;\">\n",
              "      \n",
              "  <svg xmlns=\"http://www.w3.org/2000/svg\" height=\"24px\" viewBox=\"0 -960 960 960\">\n",
              "    <path d=\"M120-120v-720h720v720H120Zm60-500h600v-160H180v160Zm220 220h160v-160H400v160Zm0 220h160v-160H400v160ZM180-400h160v-160H180v160Zm440 0h160v-160H620v160ZM180-180h160v-160H180v160Zm440 0h160v-160H620v160Z\"/>\n",
              "  </svg>\n",
              "    </button>\n",
              "    \n",
              "  <style>\n",
              "    .colab-df-container {\n",
              "      display:flex;\n",
              "      gap: 12px;\n",
              "    }\n",
              "\n",
              "    .colab-df-convert {\n",
              "      background-color: #E8F0FE;\n",
              "      border: none;\n",
              "      border-radius: 50%;\n",
              "      cursor: pointer;\n",
              "      display: none;\n",
              "      fill: #1967D2;\n",
              "      height: 32px;\n",
              "      padding: 0 0 0 0;\n",
              "      width: 32px;\n",
              "    }\n",
              "\n",
              "    .colab-df-convert:hover {\n",
              "      background-color: #E2EBFA;\n",
              "      box-shadow: 0px 1px 2px rgba(60, 64, 67, 0.3), 0px 1px 3px 1px rgba(60, 64, 67, 0.15);\n",
              "      fill: #174EA6;\n",
              "    }\n",
              "\n",
              "    .colab-df-buttons div {\n",
              "      margin-bottom: 4px;\n",
              "    }\n",
              "\n",
              "    [theme=dark] .colab-df-convert {\n",
              "      background-color: #3B4455;\n",
              "      fill: #D2E3FC;\n",
              "    }\n",
              "\n",
              "    [theme=dark] .colab-df-convert:hover {\n",
              "      background-color: #434B5C;\n",
              "      box-shadow: 0px 1px 3px 1px rgba(0, 0, 0, 0.15);\n",
              "      filter: drop-shadow(0px 1px 2px rgba(0, 0, 0, 0.3));\n",
              "      fill: #FFFFFF;\n",
              "    }\n",
              "  </style>\n",
              "\n",
              "    <script>\n",
              "      const buttonEl =\n",
              "        document.querySelector('#df-cac9159b-b222-4743-b922-b4b940da3454 button.colab-df-convert');\n",
              "      buttonEl.style.display =\n",
              "        google.colab.kernel.accessAllowed ? 'block' : 'none';\n",
              "\n",
              "      async function convertToInteractive(key) {\n",
              "        const element = document.querySelector('#df-cac9159b-b222-4743-b922-b4b940da3454');\n",
              "        const dataTable =\n",
              "          await google.colab.kernel.invokeFunction('convertToInteractive',\n",
              "                                                    [key], {});\n",
              "        if (!dataTable) return;\n",
              "\n",
              "        const docLinkHtml = 'Like what you see? Visit the ' +\n",
              "          '<a target=\"_blank\" href=https://colab.research.google.com/notebooks/data_table.ipynb>data table notebook</a>'\n",
              "          + ' to learn more about interactive tables.';\n",
              "        element.innerHTML = '';\n",
              "        dataTable['output_type'] = 'display_data';\n",
              "        await google.colab.output.renderOutput(dataTable, element);\n",
              "        const docLink = document.createElement('div');\n",
              "        docLink.innerHTML = docLinkHtml;\n",
              "        element.appendChild(docLink);\n",
              "      }\n",
              "    </script>\n",
              "  </div>\n",
              "  \n",
              "    </div>\n",
              "  </div>\n",
              "  "
            ]
          },
          "metadata": {},
          "execution_count": 7
        }
      ]
    },
    {
      "cell_type": "code",
      "source": [
        "# --- 2. Handle Duplicates ---\n",
        "print(\"\\nStep 2: Looking for and removing duplicate rows...\")\n",
        "original_row_count = len(df)\n",
        "\n",
        "# Remove any rows that are exactly the same\n",
        "df.drop_duplicates(inplace=True)\n",
        "duplicates_removed = original_row_count - len(df)\n",
        "print(f\"Removed {duplicates_removed} duplicate rows.\")"
      ],
      "metadata": {
        "colab": {
          "base_uri": "https://localhost:8080/"
        },
        "id": "5INqWKw4RBe_",
        "outputId": "6eb1f656-929a-4da6-f49e-76baa1c66043"
      },
      "execution_count": 8,
      "outputs": [
        {
          "output_type": "stream",
          "name": "stdout",
          "text": [
            "\n",
            "Step 2: Looking for and removing duplicate rows...\n",
            "Removed 500 duplicate rows.\n"
          ]
        }
      ]
    },
    {
      "cell_type": "code",
      "source": [
        "# --- 3. Trim Whitespaces & Standardize Case ---\n",
        "print(\"\\nStep 3: Cleaning up text and making it consistent...\")\n",
        "# Go through each text column and remove extra spaces\n",
        "for column in ['Job Role', 'Company', 'Experience Level', 'Location', 'Skills', 'Job Type', 'Work Mode', 'Salary Range']:\n",
        "    # Check if the column exists and is a string type before trying to use .str\n",
        "    if column in df.columns and pd.api.types.is_object_dtype(df[column]):\n",
        "        df[column] = df[column].str.strip()\n",
        "\n",
        "# Make key columns have a consistent format\n",
        "df['Company'] = df['Company'].str.title()\n",
        "df['Job Role'] = df['Job Role'].str.title()\n",
        "df['Skills'] = df['Skills'].str.lower()\n",
        "df['Location'] = df['Location'].str.title()\n",
        "df['Job Type'] = df['Job Type'].str.title()\n",
        "df['Work Mode'] = df['Work Mode'].str.title()"
      ],
      "metadata": {
        "colab": {
          "base_uri": "https://localhost:8080/"
        },
        "id": "Vk0Fx424SC7m",
        "outputId": "fed57c59-c145-4f3e-da4e-9d634fa7420c"
      },
      "execution_count": 9,
      "outputs": [
        {
          "output_type": "stream",
          "name": "stdout",
          "text": [
            "\n",
            "Step 3: Cleaning up text and making it consistent...\n"
          ]
        }
      ]
    },
    {
      "cell_type": "code",
      "source": [
        "# --- 4. Fix Inconsistent Values ---\n",
        "print(\"\\nStep 4: Fixing skills and location names...\")\n",
        "\n",
        "# Fix common ways people write PowerBI\n",
        "df['Skills'] = df['Skills'].str.replace('power-bi', 'powerbi', regex=False)\n",
        "df['Skills'] = df['Skills'].str.replace('power bi', 'powerbi', regex=False)\n",
        "\n",
        "# Fix common city name inconsistencies\n",
        "df['Location'] = df['Location'].str.replace('Bengaluru', 'Bangalore', regex=False)\n",
        "df['Location'] = df['Location'].str.replace('Delhi', 'New Delhi', regex=False)"
      ],
      "metadata": {
        "colab": {
          "base_uri": "https://localhost:8080/"
        },
        "id": "mKFWtOGCSZ0j",
        "outputId": "55d1e83e-74bc-47af-eafb-38cbad90dc9b"
      },
      "execution_count": 10,
      "outputs": [
        {
          "output_type": "stream",
          "name": "stdout",
          "text": [
            "\n",
            "Step 4: Fixing skills and location names...\n"
          ]
        }
      ]
    },
    {
      "cell_type": "code",
      "source": [
        "# --- 5. Handle Missing Values ---\n",
        "print(\"\\nStep 5: Dealing with empty spots in the data...\")\n",
        "\n",
        "# Remove rows that have missing values in important columns\n",
        "df.dropna(subset=['Job Role', 'Company', 'Location'], inplace=True)\n",
        "\n",
        "# For 'Salary Range', fill in any empty spots with 'Not Disclosed'\n",
        "df['Salary Range'].fillna('Not Disclosed', inplace=True)"
      ],
      "metadata": {
        "colab": {
          "base_uri": "https://localhost:8080/"
        },
        "id": "o_6q7VI_SpJG",
        "outputId": "08932396-36d5-45e9-cad1-563c6995a279"
      },
      "execution_count": 11,
      "outputs": [
        {
          "output_type": "stream",
          "name": "stdout",
          "text": [
            "\n",
            "Step 5: Dealing with empty spots in the data...\n"
          ]
        },
        {
          "output_type": "stream",
          "name": "stderr",
          "text": [
            "/tmp/ipython-input-3502313274.py:8: FutureWarning: A value is trying to be set on a copy of a DataFrame or Series through chained assignment using an inplace method.\n",
            "The behavior will change in pandas 3.0. This inplace method will never work because the intermediate object on which we are setting values always behaves as a copy.\n",
            "\n",
            "For example, when doing 'df[col].method(value, inplace=True)', try using 'df.method({col: value}, inplace=True)' or df[col] = df[col].method(value) instead, to perform the operation inplace on the original object.\n",
            "\n",
            "\n",
            "  df['Salary Range'].fillna('Not Disclosed', inplace=True)\n"
          ]
        }
      ]
    },
    {
      "cell_type": "code",
      "source": [
        "# --- 6. Fix Corrupted Data Types ---\n",
        "print(\"\\nStep 6: Converting salary and date columns...\")\n",
        "\n",
        "# Create new columns for minimum and maximum salary\n",
        "df['Min Salary (LPA)'] = None\n",
        "df['Max Salary (LPA)'] = None\n",
        "\n",
        "for index, row in df.iterrows():\n",
        "    salary_str = str(row['Salary Range'])\n",
        "    if 'LPA' in salary_str:\n",
        "        # Split the string to get the numbers\n",
        "        parts = salary_str.replace(' LPA', '').split('-')\n",
        "        if len(parts) == 2:\n",
        "            min_sal = float(parts[0])\n",
        "            max_sal = float(parts[1])\n",
        "            df.at[index, 'Min Salary (LPA)'] = min_sal\n",
        "            df.at[index, 'Max Salary (LPA)'] = max_sal\n",
        "\n",
        "# Convert 'Job Posting Date' to a proper date format.\n",
        "# `errors='coerce'` will turn any invalid dates into \"NaT\" (Not a Time), which is good.\n",
        "df['Job Posting Date'] = pd.to_datetime(df['Job Posting Date'], errors='coerce')\n",
        "\n",
        "# Remove rows that had invalid dates\n",
        "df.dropna(subset=['Job Posting Date'], inplace=True)"
      ],
      "metadata": {
        "colab": {
          "base_uri": "https://localhost:8080/"
        },
        "id": "nam3uup6TJuh",
        "outputId": "c393d174-fbe9-46c8-c366-2c9a6f02ece9"
      },
      "execution_count": 12,
      "outputs": [
        {
          "output_type": "stream",
          "name": "stdout",
          "text": [
            "\n",
            "Step 6: Converting salary and date columns...\n"
          ]
        }
      ]
    },
    {
      "cell_type": "code",
      "source": [
        "# --- 7. Outlier Check ---\n",
        "print(\"\\nStep 7: Checking for strange data points...\")\n",
        "# Remove rows where the max salary is unrealistically high\n",
        "df = df[df['Max Salary (LPA)'] < 100]"
      ],
      "metadata": {
        "colab": {
          "base_uri": "https://localhost:8080/"
        },
        "id": "AEAwvf-kTxrm",
        "outputId": "33b2f12f-6bd0-4063-da8f-157ab694396b"
      },
      "execution_count": 13,
      "outputs": [
        {
          "output_type": "stream",
          "name": "stdout",
          "text": [
            "\n",
            "Step 7: Checking for strange data points...\n"
          ]
        }
      ]
    },
    {
      "cell_type": "code",
      "source": [
        "# --- 8. Final Integrity Check ---\n",
        "print(\"\\nStep 8: Final check of the clean data...\")\n",
        "print(\"\\nFinal info about the DataFrame:\")\n",
        "df.info()\n",
        "print(\"\\nFinal first 5 rows:\")\n",
        "print(df.head())"
      ],
      "metadata": {
        "colab": {
          "base_uri": "https://localhost:8080/"
        },
        "id": "9ZMS1NvuT18z",
        "outputId": "a2023d38-14b3-4bb0-f3b5-70d1a8c322d7"
      },
      "execution_count": 14,
      "outputs": [
        {
          "output_type": "stream",
          "name": "stdout",
          "text": [
            "\n",
            "Step 8: Final check of the clean data...\n",
            "\n",
            "Final info about the DataFrame:\n",
            "<class 'pandas.core.frame.DataFrame'>\n",
            "Index: 7375 entries, 0 to 9999\n",
            "Data columns (total 11 columns):\n",
            " #   Column            Non-Null Count  Dtype         \n",
            "---  ------            --------------  -----         \n",
            " 0   Job Role          7375 non-null   object        \n",
            " 1   Company           7375 non-null   object        \n",
            " 2   Experience Level  7375 non-null   object        \n",
            " 3   Location          7375 non-null   object        \n",
            " 4   Skills            7375 non-null   object        \n",
            " 5   Job Type          7375 non-null   object        \n",
            " 6   Work Mode         7375 non-null   object        \n",
            " 7   Salary Range      7375 non-null   object        \n",
            " 8   Job Posting Date  7375 non-null   datetime64[ns]\n",
            " 9   Min Salary (LPA)  7375 non-null   object        \n",
            " 10  Max Salary (LPA)  7375 non-null   object        \n",
            "dtypes: datetime64[ns](1), object(10)\n",
            "memory usage: 691.4+ KB\n",
            "\n",
            "Final first 5 rows:\n",
            "                    Job Role                      Company Experience Level  \\\n",
            "0        Junior Data Analyst                 Day And Sons        Mid Level   \n",
            "2        Junior Data Analyst                   Thomas Inc       Internship   \n",
            "4        Senior Data Analyst  Gibson, Davidson And Turner       Internship   \n",
            "6  Data Analytics Specialist                Taylor-Wilson      Entry Level   \n",
            "8        Senior Data Analyst                   Larsen Llc      Entry Level   \n",
            "\n",
            "    Location                                             Skills    Job Type  \\\n",
            "0     Remote                         sql, powerbi, google cloud  Internship   \n",
            "2  Bangalore                  python, machine learning, powerbi   Full-Time   \n",
            "4  New Delhi  machine learning, python, tableau, google cola...  Internship   \n",
            "6  New Delhi               powerbi, powerbi, python, powerbi, r   Full-Time   \n",
            "8  Hyderabad  powerbi, google cloud, powerbi, excel, sql, ta...    Contract   \n",
            "\n",
            "  Work Mode Salary Range Job Posting Date Min Salary (LPA) Max Salary (LPA)  \n",
            "0    Hybrid    11-32 LPA       2025-06-26             11.0             32.0  \n",
            "2    Remote    11-25 LPA       2024-11-29             11.0             25.0  \n",
            "4   On-Site    12-31 LPA       2025-07-07             12.0             31.0  \n",
            "6    Hybrid    14-26 LPA       2024-11-13             14.0             26.0  \n",
            "8    Remote    12-20 LPA       2025-05-03             12.0             20.0  \n"
          ]
        }
      ]
    },
    {
      "cell_type": "code",
      "source": [
        "# --- Save to a new, clean CSV file ---\n",
        "cleaned_file_path = \"cleaned_data.csv\"\n",
        "df.to_csv(cleaned_file_path, index=False)\n",
        "print(f\"\\n✅ Finished! Your clean data is saved in '{cleaned_file_path}'\")"
      ],
      "metadata": {
        "colab": {
          "base_uri": "https://localhost:8080/"
        },
        "id": "7-viQxm_T53Z",
        "outputId": "bbe6b0a2-1065-4736-a43d-a7067a4a49df"
      },
      "execution_count": 15,
      "outputs": [
        {
          "output_type": "stream",
          "name": "stdout",
          "text": [
            "\n",
            "✅ Finished! Your clean data is saved in 'cleaned_data.csv'\n"
          ]
        }
      ]
    },
    {
      "cell_type": "markdown",
      "source": [
        "NOW LET'S PERFORM EXPLORATORY DATA ANALYSIS"
      ],
      "metadata": {
        "id": "bBBsG5fQVBo0"
      }
    },
    {
      "cell_type": "code",
      "source": [
        "# --- 1. Load the Cleaned Data ---\n",
        "print(\"Step 1: Loading the cleaned data...\")\n",
        "try:\n",
        "    # Load the cleaned CSV file into a DataFrame\n",
        "    df = pd.read_csv(\"cleaned_data.csv\")\n",
        "    print(\"Cleaned data loaded successfully.\")\n",
        "except FileNotFoundError:\n",
        "    print(\"Error: 'cleaned_data.csv' not found. Please make sure the cleaning script has been run.\")\n",
        "    exit()\n",
        "\n",
        "# Print some basic info to verify the data\n",
        "print(f\"\\nTotal rows in the dataset: {len(df)}\")\n",
        "print(f\"Total columns in the dataset: {len(df.columns)}\")"
      ],
      "metadata": {
        "colab": {
          "base_uri": "https://localhost:8080/"
        },
        "id": "RH8bjKHAUDq3",
        "outputId": "6c2912fd-9585-4e55-dd47-9a16625d10a9"
      },
      "execution_count": 16,
      "outputs": [
        {
          "output_type": "stream",
          "name": "stdout",
          "text": [
            "Step 1: Loading the cleaned data...\n",
            "Cleaned data loaded successfully.\n",
            "\n",
            "Total rows in the dataset: 7375\n",
            "Total columns in the dataset: 11\n"
          ]
        }
      ]
    },
    {
      "cell_type": "code",
      "source": [
        "# --- 2. Analyze the Job Roles ---\n",
        "print(\"\\n--- Top 5 Most Common Job Roles ---\")\n",
        "# Count the number of times each job role appears\n",
        "top_job_roles = df['Job Role'].value_counts()\n",
        "print(top_job_roles.head(5))"
      ],
      "metadata": {
        "colab": {
          "base_uri": "https://localhost:8080/"
        },
        "id": "J4rs-Rc8VTQW",
        "outputId": "2e97201c-de50-4ce5-f0db-8258889c246a"
      },
      "execution_count": 17,
      "outputs": [
        {
          "output_type": "stream",
          "name": "stdout",
          "text": [
            "\n",
            "--- Top 5 Most Common Job Roles ---\n",
            "Job Role\n",
            "Junior Data Analyst          1863\n",
            "Data Analyst                 1841\n",
            "Senior Data Analyst          1836\n",
            "Data Analytics Specialist    1835\n",
            "Name: count, dtype: int64\n"
          ]
        }
      ]
    },
    {
      "cell_type": "code",
      "source": [
        "# --- 3. Analyze the Locations ---\n",
        "print(\"\\n--- Top 5 Job Locations ---\")\n",
        "# Count the number of jobs in each location\n",
        "top_locations = df['Location'].value_counts()\n",
        "print(top_locations.head(5))"
      ],
      "metadata": {
        "colab": {
          "base_uri": "https://localhost:8080/"
        },
        "id": "KEThQnxIVcfe",
        "outputId": "1fe432b9-3567-4778-909e-d24b144189bc"
      },
      "execution_count": 18,
      "outputs": [
        {
          "output_type": "stream",
          "name": "stdout",
          "text": [
            "\n",
            "--- Top 5 Job Locations ---\n",
            "Location\n",
            "New Delhi    957\n",
            "Bangalore    946\n",
            "Remote       942\n",
            "Pune         926\n",
            "Mumbai       923\n",
            "Name: count, dtype: int64\n"
          ]
        }
      ]
    },
    {
      "cell_type": "code",
      "source": [
        "# --- 4. Analyze Salary Data ---\n",
        "print(\"\\n--- Average Salary Range ---\")\n",
        "# Calculate the average of the Min and Max salary columns\n",
        "# We use .mean() to find the average for each column\n",
        "avg_min_salary = df['Min Salary (LPA)'].mean()\n",
        "avg_max_salary = df['Max Salary (LPA)'].mean()\n",
        "\n",
        "print(f\"Average Minimum Salary: {avg_min_salary:.2f} LPA\")\n",
        "print(f\"Average Maximum Salary: {avg_max_salary:.2f} LPA\")"
      ],
      "metadata": {
        "colab": {
          "base_uri": "https://localhost:8080/"
        },
        "id": "olRYcvwrWIKI",
        "outputId": "cdee39dc-2a08-4812-9259-34bb1bedb600"
      },
      "execution_count": 19,
      "outputs": [
        {
          "output_type": "stream",
          "name": "stdout",
          "text": [
            "\n",
            "--- Average Salary Range ---\n",
            "Average Minimum Salary: 9.01 LPA\n",
            "Average Maximum Salary: 25.48 LPA\n"
          ]
        }
      ]
    },
    {
      "cell_type": "code",
      "source": [
        "# --- 5. Analyze Skills (Optional) ---\n",
        "# This part is a bit more complex, but here is a simple way to find top skills\n",
        "print(\"\\n--- Top 5 Most Common Skills ---\")\n",
        "# Combine all the skills into one long string, then split by comma\n",
        "all_skills = ','.join(df['Skills'].dropna()).lower()\n",
        "# Create a list of all skills\n",
        "skill_list = [skill.strip() for skill in all_skills.split(',')]\n",
        "# Count the occurrences of each skill\n",
        "skills_series = pd.Series(skill_list)\n",
        "top_skills = skills_series.value_counts()\n",
        "print(top_skills.head(5))\n"
      ],
      "metadata": {
        "colab": {
          "base_uri": "https://localhost:8080/"
        },
        "id": "dHKct4Q5WMA7",
        "outputId": "99075a1d-ed82-479f-b4e2-a10e0a4bd7a7"
      },
      "execution_count": 20,
      "outputs": [
        {
          "output_type": "stream",
          "name": "stdout",
          "text": [
            "\n",
            "--- Top 5 Most Common Skills ---\n",
            "powerbi         9130\n",
            "excel           3111\n",
            "python          3066\n",
            "google cloud    3018\n",
            "r               2999\n",
            "Name: count, dtype: int64\n"
          ]
        }
      ]
    },
    {
      "cell_type": "code",
      "source": [],
      "metadata": {
        "id": "uVxvFOjoWNa5"
      },
      "execution_count": null,
      "outputs": []
    }
  ],
  "metadata": {
    "colab": {
      "provenance": []
    },
    "kernelspec": {
      "display_name": "Python 3",
      "name": "python3"
    }
  },
  "nbformat": 4,
  "nbformat_minor": 0
}